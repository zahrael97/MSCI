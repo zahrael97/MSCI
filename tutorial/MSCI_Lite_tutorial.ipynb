{
  "cells": [
    {
      "cell_type": "markdown",
      "metadata": {
        "id": "SttCP_g6TyO7"
      },
      "source": [
        "<div style=\"display: flex; align-items: center;\">\n",
        "  <div style=\"flex: 1; max-width: 70%;\">\n",
        "    MSCI is a Python package designed to evaluate the information content of peptide fragmentation spectra. Our objective was to compute an information-content index for all peptides within a given proteome. This would allow us to devise data acquisition and analysis strategies that generate and prioritize the most informative fragment ions for peptide quantification.\n",
        "  </div>\n",
        "  <img src=\"https://github.com/proteomicsunitcrg/MSCI/raw/main/docs/MSCI_logo.png\" width=\"300\" style=\"margin-left: 20px;\">\n",
        "</div>\n"
      ]
    },
    {
      "cell_type": "markdown",
      "metadata": {
        "id": "zLMDB14xO2ik"
      },
      "source": [
        "#Download MSCI package and necessary installations"
      ]
    },
    {
      "cell_type": "code",
      "execution_count": null,
      "metadata": {
        "id": "PXPoxi2iO-0F"
      },
      "outputs": [],
      "source": [
        "!git clone https://github.com/proteomicsunitcrg/MSCI.git\n",
        "! pip install matchms\n",
        "# do not restart session if asked (press cancel matchms since probably you already have matchms installed )\n",
        "%cd MSCI\n",
        "import sys\n",
        "sys.path.append('/content/MSCI')\n"
      ]
    },
    {
      "cell_type": "code",
      "execution_count": null,
      "metadata": {},
      "outputs": [],
      "source": [
        "pip install -i https://test.pypi.org/simple/ MSCI"
      ]
    },
    {
      "cell_type": "code",
      "execution_count": 6,
      "metadata": {},
      "outputs": [],
      "source": [
        "from MSCI.Preprocessing.Koina import PeptideProcessor\n",
        "from MSCI.Preprocessing.read_msp_file import read_msp_file\n",
        "from MSCI.Grouping_MS1.Grouping_mw_irt import process_peptide_combinations\n",
        "from MSCI.Similarity.spectral_angle_similarity import process_spectra_pairs"
      ]
    },
    {
      "cell_type": "markdown",
      "metadata": {
        "id": "r4K23vVAMe_G"
      },
      "source": [
        "# Import\n"
      ]
    },
    {
      "cell_type": "code",
      "execution_count": null,
      "metadata": {},
      "outputs": [],
      "source": [
        "! pip install matchms"
      ]
    },
    {
      "cell_type": "code",
      "execution_count": 3,
      "metadata": {
        "id": "3VcoQ6H6Miwl"
      },
      "outputs": [],
      "source": [
        "from matchms.importing import load_from_msp\n",
        "import random\n",
        "import numpy as np\n",
        "import pandas as pd\n"
      ]
    },
    {
      "cell_type": "markdown",
      "metadata": {
        "id": "G3vayOhULpQm"
      },
      "source": [
        "# Genrate predicted dataset"
      ]
    },
    {
      "cell_type": "markdown",
      "metadata": {
        "id": "hi6JsD4uJhpH"
      },
      "source": [
        "###  Download the list of peptides of interest\n"
      ]
    },
    {
      "cell_type": "code",
      "execution_count": null,
      "metadata": {
        "colab": {
          "base_uri": "https://localhost:8080/"
        },
        "id": "h_yxEJjbJgnf",
        "outputId": "c20918c1-2470-49b8-d61a-e5ec64367dd9"
      },
      "outputs": [],
      "source": [
        "# List of standard amino acids\n",
        "amino_acids = 'ACDEFGHIKLMNPQRSTVWY'\n",
        "\n",
        "# Function to generate a single tryptic peptide\n",
        "def generate_tryptic_peptide(min_length=8, max_length=20):\n",
        "    length = random.randint(min_length, max_length - 1)\n",
        "    peptide = ''.join(random.choices(amino_acids, k=length))\n",
        "    peptide += random.choice('KR')\n",
        "    return peptide\n",
        "\n",
        "# Generate a list of 100 random tryptic peptides\n",
        "tryptic_peptides = [generate_tryptic_peptide() for _ in range(100)]\n",
        "\n",
        "last_peptide_length = random.randint(5, 20)\n",
        "last_peptide = ''.join(random.choices(amino_acids, k=last_peptide_length))\n",
        "tryptic_peptides[-1] = last_peptide\n",
        "\n",
        "with open('random_tryptic_peptides.txt', 'w') as f:\n",
        "    for peptide in tryptic_peptides:\n",
        "        f.write(f\"{peptide}\\n\")\n",
        "\n",
        "print(\"Generated 100 random tryptic peptides and saved to 'random_tryptic_peptides.txt'.\")\n"
      ]
    },
    {
      "cell_type": "markdown",
      "metadata": {
        "id": "yhiwXbsWOdsE"
      },
      "source": [
        "### Predict with Koina"
      ]
    },
    {
      "cell_type": "markdown",
      "metadata": {
        "id": "1p20aVHV82-X"
      },
      "source": [
        "#### If available your own list of peptides"
      ]
    },
    {
      "cell_type": "code",
      "execution_count": 7,
      "metadata": {
        "id": "Gqm1dbxfQWkp"
      },
      "outputs": [],
      "source": [
        "processor = PeptideProcessor(\n",
        "    input_file=\"C:/Users/zelhamraoui/Documents/GitHub/MSCI/random_tryptic_peptides.txt\",\n",
        "    collision_energy=30,\n",
        "    charge=2,\n",
        "    model_intensity=\"Prosit_2020_intensity_HCD\",\n",
        "    model_irt=\"Prosit_2019_irt\"\n",
        ")\n",
        "\n",
        "processor.process('random_tryptic_peptides.msp')"
      ]
    },
    {
      "cell_type": "markdown",
      "metadata": {
        "id": "nVf97aTgLFJm"
      },
      "source": [
        "# Load dataset\n"
      ]
    },
    {
      "cell_type": "code",
      "execution_count": 8,
      "metadata": {
        "colab": {
          "base_uri": "https://localhost:8080/"
        },
        "id": "IfrhTBn-LB5X",
        "outputId": "597bcea8-c25a-40b4-c738-8cb0c6c33bd3"
      },
      "outputs": [
        {
          "name": "stdout",
          "output_type": "stream",
          "text": [
            "2024-08-20 15:57:58,509:WARNING:matchms:add_precursor_mz:No precursor_mz found in metadata.\n",
            "2024-08-20 15:57:58,511:WARNING:matchms:add_precursor_mz:No precursor_mz found in metadata.\n",
            "2024-08-20 15:57:58,513:WARNING:matchms:add_precursor_mz:No precursor_mz found in metadata.\n",
            "2024-08-20 15:57:58,515:WARNING:matchms:add_precursor_mz:No precursor_mz found in metadata.\n",
            "2024-08-20 15:57:58,519:WARNING:matchms:add_precursor_mz:No precursor_mz found in metadata.\n",
            "2024-08-20 15:57:58,522:WARNING:matchms:add_precursor_mz:No precursor_mz found in metadata.\n",
            "2024-08-20 15:57:58,525:WARNING:matchms:add_precursor_mz:No precursor_mz found in metadata.\n",
            "2024-08-20 15:57:58,528:WARNING:matchms:add_precursor_mz:No precursor_mz found in metadata.\n",
            "2024-08-20 15:57:58,530:WARNING:matchms:add_precursor_mz:No precursor_mz found in metadata.\n",
            "2024-08-20 15:57:58,532:WARNING:matchms:add_precursor_mz:No precursor_mz found in metadata.\n",
            "2024-08-20 15:57:58,535:WARNING:matchms:add_precursor_mz:No precursor_mz found in metadata.\n",
            "2024-08-20 15:57:58,537:WARNING:matchms:add_precursor_mz:No precursor_mz found in metadata.\n",
            "2024-08-20 15:57:58,540:WARNING:matchms:add_precursor_mz:No precursor_mz found in metadata.\n",
            "2024-08-20 15:57:58,543:WARNING:matchms:add_precursor_mz:No precursor_mz found in metadata.\n",
            "2024-08-20 15:57:58,545:WARNING:matchms:add_precursor_mz:No precursor_mz found in metadata.\n",
            "2024-08-20 15:57:58,547:WARNING:matchms:add_precursor_mz:No precursor_mz found in metadata.\n",
            "2024-08-20 15:57:58,549:WARNING:matchms:add_precursor_mz:No precursor_mz found in metadata.\n",
            "2024-08-20 15:57:58,551:WARNING:matchms:add_precursor_mz:No precursor_mz found in metadata.\n",
            "2024-08-20 15:57:58,553:WARNING:matchms:add_precursor_mz:No precursor_mz found in metadata.\n",
            "2024-08-20 15:57:58,555:WARNING:matchms:add_precursor_mz:No precursor_mz found in metadata.\n",
            "2024-08-20 15:57:58,558:WARNING:matchms:add_precursor_mz:No precursor_mz found in metadata.\n",
            "2024-08-20 15:57:58,561:WARNING:matchms:add_precursor_mz:No precursor_mz found in metadata.\n",
            "2024-08-20 15:57:58,563:WARNING:matchms:add_precursor_mz:No precursor_mz found in metadata.\n",
            "2024-08-20 15:57:58,565:WARNING:matchms:add_precursor_mz:No precursor_mz found in metadata.\n",
            "2024-08-20 15:57:58,567:WARNING:matchms:add_precursor_mz:No precursor_mz found in metadata.\n",
            "2024-08-20 15:57:58,569:WARNING:matchms:add_precursor_mz:No precursor_mz found in metadata.\n",
            "2024-08-20 15:57:58,571:WARNING:matchms:add_precursor_mz:No precursor_mz found in metadata.\n",
            "2024-08-20 15:57:58,573:WARNING:matchms:add_precursor_mz:No precursor_mz found in metadata.\n",
            "2024-08-20 15:57:58,575:WARNING:matchms:add_precursor_mz:No precursor_mz found in metadata.\n",
            "2024-08-20 15:57:58,577:WARNING:matchms:add_precursor_mz:No precursor_mz found in metadata.\n",
            "2024-08-20 15:57:58,580:WARNING:matchms:add_precursor_mz:No precursor_mz found in metadata.\n",
            "2024-08-20 15:57:58,582:WARNING:matchms:add_precursor_mz:No precursor_mz found in metadata.\n",
            "2024-08-20 15:57:58,584:WARNING:matchms:add_precursor_mz:No precursor_mz found in metadata.\n",
            "2024-08-20 15:57:58,587:WARNING:matchms:add_precursor_mz:No precursor_mz found in metadata.\n",
            "2024-08-20 15:57:58,590:WARNING:matchms:add_precursor_mz:No precursor_mz found in metadata.\n",
            "2024-08-20 15:57:58,592:WARNING:matchms:add_precursor_mz:No precursor_mz found in metadata.\n",
            "2024-08-20 15:57:58,595:WARNING:matchms:add_precursor_mz:No precursor_mz found in metadata.\n",
            "2024-08-20 15:57:58,598:WARNING:matchms:add_precursor_mz:No precursor_mz found in metadata.\n",
            "2024-08-20 15:57:58,601:WARNING:matchms:add_precursor_mz:No precursor_mz found in metadata.\n",
            "2024-08-20 15:57:58,603:WARNING:matchms:add_precursor_mz:No precursor_mz found in metadata.\n",
            "2024-08-20 15:57:58,605:WARNING:matchms:add_precursor_mz:No precursor_mz found in metadata.\n",
            "2024-08-20 15:57:58,607:WARNING:matchms:add_precursor_mz:No precursor_mz found in metadata.\n",
            "2024-08-20 15:57:58,610:WARNING:matchms:add_precursor_mz:No precursor_mz found in metadata.\n",
            "2024-08-20 15:57:58,613:WARNING:matchms:add_precursor_mz:No precursor_mz found in metadata.\n",
            "2024-08-20 15:57:58,616:WARNING:matchms:add_precursor_mz:No precursor_mz found in metadata.\n",
            "2024-08-20 15:57:58,618:WARNING:matchms:add_precursor_mz:No precursor_mz found in metadata.\n",
            "2024-08-20 15:57:58,621:WARNING:matchms:add_precursor_mz:No precursor_mz found in metadata.\n",
            "2024-08-20 15:57:58,623:WARNING:matchms:add_precursor_mz:No precursor_mz found in metadata.\n",
            "2024-08-20 15:57:58,625:WARNING:matchms:add_precursor_mz:No precursor_mz found in metadata.\n",
            "2024-08-20 15:57:58,627:WARNING:matchms:add_precursor_mz:No precursor_mz found in metadata.\n",
            "2024-08-20 15:57:58,629:WARNING:matchms:add_precursor_mz:No precursor_mz found in metadata.\n",
            "2024-08-20 15:57:58,631:WARNING:matchms:add_precursor_mz:No precursor_mz found in metadata.\n",
            "2024-08-20 15:57:58,634:WARNING:matchms:add_precursor_mz:No precursor_mz found in metadata.\n",
            "2024-08-20 15:57:58,635:WARNING:matchms:add_precursor_mz:No precursor_mz found in metadata.\n",
            "2024-08-20 15:57:58,638:WARNING:matchms:add_precursor_mz:No precursor_mz found in metadata.\n",
            "2024-08-20 15:57:58,640:WARNING:matchms:add_precursor_mz:No precursor_mz found in metadata.\n",
            "2024-08-20 15:57:58,643:WARNING:matchms:add_precursor_mz:No precursor_mz found in metadata.\n",
            "2024-08-20 15:57:58,645:WARNING:matchms:add_precursor_mz:No precursor_mz found in metadata.\n",
            "2024-08-20 15:57:58,647:WARNING:matchms:add_precursor_mz:No precursor_mz found in metadata.\n",
            "2024-08-20 15:57:58,649:WARNING:matchms:add_precursor_mz:No precursor_mz found in metadata.\n",
            "2024-08-20 15:57:58,651:WARNING:matchms:add_precursor_mz:No precursor_mz found in metadata.\n",
            "2024-08-20 15:57:58,653:WARNING:matchms:add_precursor_mz:No precursor_mz found in metadata.\n",
            "2024-08-20 15:57:58,655:WARNING:matchms:add_precursor_mz:No precursor_mz found in metadata.\n",
            "2024-08-20 15:57:58,658:WARNING:matchms:add_precursor_mz:No precursor_mz found in metadata.\n",
            "2024-08-20 15:57:58,660:WARNING:matchms:add_precursor_mz:No precursor_mz found in metadata.\n",
            "2024-08-20 15:57:58,663:WARNING:matchms:add_precursor_mz:No precursor_mz found in metadata.\n",
            "2024-08-20 15:57:58,665:WARNING:matchms:add_precursor_mz:No precursor_mz found in metadata.\n",
            "2024-08-20 15:57:58,667:WARNING:matchms:add_precursor_mz:No precursor_mz found in metadata.\n",
            "2024-08-20 15:57:58,669:WARNING:matchms:add_precursor_mz:No precursor_mz found in metadata.\n",
            "2024-08-20 15:57:58,670:WARNING:matchms:add_precursor_mz:No precursor_mz found in metadata.\n",
            "2024-08-20 15:57:58,673:WARNING:matchms:add_precursor_mz:No precursor_mz found in metadata.\n",
            "2024-08-20 15:57:58,676:WARNING:matchms:add_precursor_mz:No precursor_mz found in metadata.\n",
            "2024-08-20 15:57:58,678:WARNING:matchms:add_precursor_mz:No precursor_mz found in metadata.\n",
            "2024-08-20 15:57:58,680:WARNING:matchms:add_precursor_mz:No precursor_mz found in metadata.\n",
            "2024-08-20 15:57:58,682:WARNING:matchms:add_precursor_mz:No precursor_mz found in metadata.\n",
            "2024-08-20 15:57:58,684:WARNING:matchms:add_precursor_mz:No precursor_mz found in metadata.\n",
            "2024-08-20 15:57:58,686:WARNING:matchms:add_precursor_mz:No precursor_mz found in metadata.\n",
            "2024-08-20 15:57:58,689:WARNING:matchms:add_precursor_mz:No precursor_mz found in metadata.\n",
            "2024-08-20 15:57:58,692:WARNING:matchms:add_precursor_mz:No precursor_mz found in metadata.\n",
            "2024-08-20 15:57:58,694:WARNING:matchms:add_precursor_mz:No precursor_mz found in metadata.\n",
            "2024-08-20 15:57:58,695:WARNING:matchms:add_precursor_mz:No precursor_mz found in metadata.\n",
            "2024-08-20 15:57:58,697:WARNING:matchms:add_precursor_mz:No precursor_mz found in metadata.\n",
            "2024-08-20 15:57:58,700:WARNING:matchms:add_precursor_mz:No precursor_mz found in metadata.\n",
            "2024-08-20 15:57:58,702:WARNING:matchms:add_precursor_mz:No precursor_mz found in metadata.\n",
            "2024-08-20 15:57:58,704:WARNING:matchms:add_precursor_mz:No precursor_mz found in metadata.\n",
            "2024-08-20 15:57:58,706:WARNING:matchms:add_precursor_mz:No precursor_mz found in metadata.\n",
            "2024-08-20 15:57:58,709:WARNING:matchms:add_precursor_mz:No precursor_mz found in metadata.\n",
            "2024-08-20 15:57:58,712:WARNING:matchms:add_precursor_mz:No precursor_mz found in metadata.\n",
            "2024-08-20 15:57:58,714:WARNING:matchms:add_precursor_mz:No precursor_mz found in metadata.\n",
            "2024-08-20 15:57:58,716:WARNING:matchms:add_precursor_mz:No precursor_mz found in metadata.\n",
            "2024-08-20 15:57:58,718:WARNING:matchms:add_precursor_mz:No precursor_mz found in metadata.\n",
            "2024-08-20 15:57:58,719:WARNING:matchms:add_precursor_mz:No precursor_mz found in metadata.\n",
            "2024-08-20 15:57:58,721:WARNING:matchms:add_precursor_mz:No precursor_mz found in metadata.\n",
            "2024-08-20 15:57:58,724:WARNING:matchms:add_precursor_mz:No precursor_mz found in metadata.\n",
            "2024-08-20 15:57:58,726:WARNING:matchms:add_precursor_mz:No precursor_mz found in metadata.\n",
            "2024-08-20 15:57:58,728:WARNING:matchms:add_precursor_mz:No precursor_mz found in metadata.\n",
            "2024-08-20 15:57:58,731:WARNING:matchms:add_precursor_mz:No precursor_mz found in metadata.\n",
            "2024-08-20 15:57:58,733:WARNING:matchms:add_precursor_mz:No precursor_mz found in metadata.\n",
            "2024-08-20 15:57:58,735:WARNING:matchms:add_precursor_mz:No precursor_mz found in metadata.\n",
            "2024-08-20 15:57:58,737:WARNING:matchms:add_precursor_mz:No precursor_mz found in metadata.\n"
          ]
        }
      ],
      "source": [
        "# You can use your own spectra\n",
        "File= 'random_tryptic_peptides.msp'\n",
        "spectra = list(load_from_msp(File))"
      ]
    },
    {
      "cell_type": "code",
      "execution_count": null,
      "metadata": {
        "id": "iRZs3Sp8L2EG"
      },
      "outputs": [],
      "source": []
    },
    {
      "cell_type": "markdown",
      "metadata": {
        "id": "IZULajcxL2mO"
      },
      "source": [
        "# Group within MS1 tolerance"
      ]
    },
    {
      "cell_type": "code",
      "execution_count": 9,
      "metadata": {
        "colab": {
          "base_uri": "https://localhost:8080/",
          "height": 0
        },
        "id": "xRmlrHwlhIMa",
        "outputId": "369d2841-ac92-4057-b744-993f6577c4ec"
      },
      "outputs": [
        {
          "name": "stdout",
          "output_type": "stream",
          "text": [
            "Results DataFrame Columns: Index(['index1', 'index2', 'peptide 1', 'peptide 2', 'm/z  1', 'm/z 2',\n",
            "       'iRT 1', 'iRT 2'],\n",
            "      dtype='object')\n"
          ]
        },
        {
          "data": {
            "text/html": [
              "<div>\n",
              "<style scoped>\n",
              "    .dataframe tbody tr th:only-of-type {\n",
              "        vertical-align: middle;\n",
              "    }\n",
              "\n",
              "    .dataframe tbody tr th {\n",
              "        vertical-align: top;\n",
              "    }\n",
              "\n",
              "    .dataframe thead th {\n",
              "        text-align: right;\n",
              "    }\n",
              "</style>\n",
              "<table border=\"1\" class=\"dataframe\">\n",
              "  <thead>\n",
              "    <tr style=\"text-align: right;\">\n",
              "      <th></th>\n",
              "      <th>index1</th>\n",
              "      <th>index2</th>\n",
              "      <th>peptide 1</th>\n",
              "      <th>peptide 2</th>\n",
              "      <th>m/z  1</th>\n",
              "      <th>m/z 2</th>\n",
              "      <th>iRT 1</th>\n",
              "      <th>iRT 2</th>\n",
              "    </tr>\n",
              "  </thead>\n",
              "  <tbody>\n",
              "    <tr>\n",
              "      <th>0</th>\n",
              "      <td>31</td>\n",
              "      <td>85</td>\n",
              "      <td>AQEYSRAGPLTVHK/2</td>\n",
              "      <td>DCMWYHEERKR/2</td>\n",
              "      <td>778.912622</td>\n",
              "      <td>776.842827</td>\n",
              "      <td>6.998272</td>\n",
              "      <td>7.659088</td>\n",
              "    </tr>\n",
              "    <tr>\n",
              "      <th>1</th>\n",
              "      <td>33</td>\n",
              "      <td>34</td>\n",
              "      <td>GLQCFKHQMEVRQNNRHTCK/2</td>\n",
              "      <td>GLQFCKHQMEVRQNNRHTCK/2</td>\n",
              "      <td>1229.094080</td>\n",
              "      <td>1229.094080</td>\n",
              "      <td>-4.401394</td>\n",
              "      <td>-5.657276</td>\n",
              "    </tr>\n",
              "    <tr>\n",
              "      <th>2</th>\n",
              "      <td>22</td>\n",
              "      <td>87</td>\n",
              "      <td>IQINPNDYAWVSGQVYKWVK/2</td>\n",
              "      <td>WIWLTVKCWEPNLQDVRAR/2</td>\n",
              "      <td>1204.623510</td>\n",
              "      <td>1207.133522</td>\n",
              "      <td>125.768631</td>\n",
              "      <td>128.114777</td>\n",
              "    </tr>\n",
              "    <tr>\n",
              "      <th>3</th>\n",
              "      <td>37</td>\n",
              "      <td>73</td>\n",
              "      <td>VMMRNPDVDHLVGNK/2</td>\n",
              "      <td>TFKTKLTSTLIHDGR/2</td>\n",
              "      <td>862.932173</td>\n",
              "      <td>859.483411</td>\n",
              "      <td>41.366417</td>\n",
              "      <td>37.318249</td>\n",
              "    </tr>\n",
              "    <tr>\n",
              "      <th>4</th>\n",
              "      <td>6</td>\n",
              "      <td>46</td>\n",
              "      <td>RCFFWVLESLFNRICKK/2</td>\n",
              "      <td>CVCDNILPAWMLPEEIWR/2</td>\n",
              "      <td>1095.079172</td>\n",
              "      <td>1094.523038</td>\n",
              "      <td>157.620422</td>\n",
              "      <td>160.780777</td>\n",
              "    </tr>\n",
              "    <tr>\n",
              "      <th>5</th>\n",
              "      <td>95</td>\n",
              "      <td>98</td>\n",
              "      <td>QRCEQHSYHMMSGQMQYWEK/2</td>\n",
              "      <td>QQCERHSYHMMSGQMQYWEK/2</td>\n",
              "      <td>1294.040322</td>\n",
              "      <td>1294.040322</td>\n",
              "      <td>42.806053</td>\n",
              "      <td>41.172798</td>\n",
              "    </tr>\n",
              "  </tbody>\n",
              "</table>\n",
              "</div>"
            ],
            "text/plain": [
              "   index1  index2               peptide 1               peptide 2  \\\n",
              "0      31      85        AQEYSRAGPLTVHK/2           DCMWYHEERKR/2   \n",
              "1      33      34  GLQCFKHQMEVRQNNRHTCK/2  GLQFCKHQMEVRQNNRHTCK/2   \n",
              "2      22      87  IQINPNDYAWVSGQVYKWVK/2   WIWLTVKCWEPNLQDVRAR/2   \n",
              "3      37      73       VMMRNPDVDHLVGNK/2       TFKTKLTSTLIHDGR/2   \n",
              "4       6      46     RCFFWVLESLFNRICKK/2    CVCDNILPAWMLPEEIWR/2   \n",
              "5      95      98  QRCEQHSYHMMSGQMQYWEK/2  QQCERHSYHMMSGQMQYWEK/2   \n",
              "\n",
              "        m/z  1        m/z 2       iRT 1       iRT 2  \n",
              "0   778.912622   776.842827    6.998272    7.659088  \n",
              "1  1229.094080  1229.094080   -4.401394   -5.657276  \n",
              "2  1204.623510  1207.133522  125.768631  128.114777  \n",
              "3   862.932173   859.483411   41.366417   37.318249  \n",
              "4  1095.079172  1094.523038  157.620422  160.780777  \n",
              "5  1294.040322  1294.040322   42.806053   41.172798  "
            ]
          },
          "execution_count": 9,
          "metadata": {},
          "output_type": "execute_result"
        }
      ],
      "source": [
        "mz_tolerance = 5\n",
        "irt_tolerance = 5\n",
        "\n",
        "\n",
        "mz_irt_df = read_msp_file(File)\n",
        "Groups_df = process_peptide_combinations(mz_irt_df, mz_tolerance, irt_tolerance, use_ppm=False)\n",
        "\n",
        "Groups_df"
      ]
    },
    {
      "cell_type": "markdown",
      "metadata": {
        "id": "xtHsdzfwMAIH"
      },
      "source": [
        "# Calculate similarity within fragment tolerance\n"
      ]
    },
    {
      "cell_type": "code",
      "execution_count": 10,
      "metadata": {
        "colab": {
          "base_uri": "https://localhost:8080/",
          "height": 1000
        },
        "id": "1Im0NZqhMK7O",
        "outputId": "115fcb21-37b9-4878-d34d-7c5d6e63c311"
      },
      "outputs": [
        {
          "name": "stdout",
          "output_type": "stream",
          "text": [
            "0.0\n",
            "0.7366079240570362\n",
            "0.0\n",
            "0.0\n",
            "0.0\n",
            "0.7623991292727825\n"
          ]
        },
        {
          "data": {
            "text/html": [
              "<div>\n",
              "<style scoped>\n",
              "    .dataframe tbody tr th:only-of-type {\n",
              "        vertical-align: middle;\n",
              "    }\n",
              "\n",
              "    .dataframe tbody tr th {\n",
              "        vertical-align: top;\n",
              "    }\n",
              "\n",
              "    .dataframe thead th {\n",
              "        text-align: right;\n",
              "    }\n",
              "</style>\n",
              "<table border=\"1\" class=\"dataframe\">\n",
              "  <thead>\n",
              "    <tr style=\"text-align: right;\">\n",
              "      <th></th>\n",
              "      <th>index1</th>\n",
              "      <th>index2</th>\n",
              "      <th>peptide 1</th>\n",
              "      <th>peptide 2</th>\n",
              "      <th>m/z  1</th>\n",
              "      <th>m/z 2</th>\n",
              "      <th>iRT 1</th>\n",
              "      <th>iRT 2</th>\n",
              "      <th>similarity_score</th>\n",
              "    </tr>\n",
              "  </thead>\n",
              "  <tbody>\n",
              "    <tr>\n",
              "      <th>0</th>\n",
              "      <td>31</td>\n",
              "      <td>85</td>\n",
              "      <td>AQEYSRAGPLTVHK/2</td>\n",
              "      <td>DCMWYHEERKR/2</td>\n",
              "      <td>778.912622</td>\n",
              "      <td>776.842827</td>\n",
              "      <td>6.998272</td>\n",
              "      <td>7.659088</td>\n",
              "      <td>0.000000</td>\n",
              "    </tr>\n",
              "    <tr>\n",
              "      <th>1</th>\n",
              "      <td>33</td>\n",
              "      <td>34</td>\n",
              "      <td>GLQCFKHQMEVRQNNRHTCK/2</td>\n",
              "      <td>GLQFCKHQMEVRQNNRHTCK/2</td>\n",
              "      <td>1229.094080</td>\n",
              "      <td>1229.094080</td>\n",
              "      <td>-4.401394</td>\n",
              "      <td>-5.657276</td>\n",
              "      <td>0.736608</td>\n",
              "    </tr>\n",
              "    <tr>\n",
              "      <th>2</th>\n",
              "      <td>22</td>\n",
              "      <td>87</td>\n",
              "      <td>IQINPNDYAWVSGQVYKWVK/2</td>\n",
              "      <td>WIWLTVKCWEPNLQDVRAR/2</td>\n",
              "      <td>1204.623510</td>\n",
              "      <td>1207.133522</td>\n",
              "      <td>125.768631</td>\n",
              "      <td>128.114777</td>\n",
              "      <td>0.000000</td>\n",
              "    </tr>\n",
              "    <tr>\n",
              "      <th>3</th>\n",
              "      <td>37</td>\n",
              "      <td>73</td>\n",
              "      <td>VMMRNPDVDHLVGNK/2</td>\n",
              "      <td>TFKTKLTSTLIHDGR/2</td>\n",
              "      <td>862.932173</td>\n",
              "      <td>859.483411</td>\n",
              "      <td>41.366417</td>\n",
              "      <td>37.318249</td>\n",
              "      <td>0.000000</td>\n",
              "    </tr>\n",
              "    <tr>\n",
              "      <th>4</th>\n",
              "      <td>6</td>\n",
              "      <td>46</td>\n",
              "      <td>RCFFWVLESLFNRICKK/2</td>\n",
              "      <td>CVCDNILPAWMLPEEIWR/2</td>\n",
              "      <td>1095.079172</td>\n",
              "      <td>1094.523038</td>\n",
              "      <td>157.620422</td>\n",
              "      <td>160.780777</td>\n",
              "      <td>0.000000</td>\n",
              "    </tr>\n",
              "    <tr>\n",
              "      <th>5</th>\n",
              "      <td>95</td>\n",
              "      <td>98</td>\n",
              "      <td>QRCEQHSYHMMSGQMQYWEK/2</td>\n",
              "      <td>QQCERHSYHMMSGQMQYWEK/2</td>\n",
              "      <td>1294.040322</td>\n",
              "      <td>1294.040322</td>\n",
              "      <td>42.806053</td>\n",
              "      <td>41.172798</td>\n",
              "      <td>0.762399</td>\n",
              "    </tr>\n",
              "  </tbody>\n",
              "</table>\n",
              "</div>"
            ],
            "text/plain": [
              "   index1  index2               peptide 1               peptide 2  \\\n",
              "0      31      85        AQEYSRAGPLTVHK/2           DCMWYHEERKR/2   \n",
              "1      33      34  GLQCFKHQMEVRQNNRHTCK/2  GLQFCKHQMEVRQNNRHTCK/2   \n",
              "2      22      87  IQINPNDYAWVSGQVYKWVK/2   WIWLTVKCWEPNLQDVRAR/2   \n",
              "3      37      73       VMMRNPDVDHLVGNK/2       TFKTKLTSTLIHDGR/2   \n",
              "4       6      46     RCFFWVLESLFNRICKK/2    CVCDNILPAWMLPEEIWR/2   \n",
              "5      95      98  QRCEQHSYHMMSGQMQYWEK/2  QQCERHSYHMMSGQMQYWEK/2   \n",
              "\n",
              "        m/z  1        m/z 2       iRT 1       iRT 2  similarity_score  \n",
              "0   778.912622   776.842827    6.998272    7.659088          0.000000  \n",
              "1  1229.094080  1229.094080   -4.401394   -5.657276          0.736608  \n",
              "2  1204.623510  1207.133522  125.768631  128.114777          0.000000  \n",
              "3   862.932173   859.483411   41.366417   37.318249          0.000000  \n",
              "4  1095.079172  1094.523038  157.620422  160.780777          0.000000  \n",
              "5  1294.040322  1294.040322   42.806053   41.172798          0.762399  "
            ]
          },
          "execution_count": 10,
          "metadata": {},
          "output_type": "execute_result"
        }
      ],
      "source": [
        "Groups_df.columns = Groups_df.columns.str.strip()\n",
        "index_array = Groups_df[['index1','index2']].values.astype(int)\n",
        "result = process_spectra_pairs(index_array, spectra,  mz_irt_df, tolerance =0, ppm=10)\n",
        "result"
      ]
    },
    {
      "cell_type": "markdown",
      "metadata": {
        "id": "4vBN2sxYNKyt"
      },
      "source": [
        "# Plot results"
      ]
    },
    {
      "cell_type": "markdown",
      "metadata": {
        "id": "bqa99JQj8r13"
      },
      "source": [
        "### Plot spectra of interest using matchms"
      ]
    },
    {
      "cell_type": "code",
      "execution_count": 11,
      "metadata": {
        "colab": {
          "base_uri": "https://localhost:8080/",
          "height": 1000
        },
        "id": "GxvVmEnSNNys",
        "outputId": "cedf70c9-9912-47b3-bde6-6314ed731525"
      },
      "outputs": [
        {
          "name": "stdout",
          "output_type": "stream",
          "text": [
            "Name    LSNGRGKHIEPKFDK/2\n",
            "MW             863.473377\n",
            "iRT             -12.67551\n",
            "Name: 14, dtype: object\n",
            "Name    AQEYSRAGPLTVHK/2\n",
            "MW            778.912622\n",
            "iRT             6.998272\n",
            "Name: 31, dtype: object\n"
          ]
        },
        {
          "data": {
            "text/plain": [
              "(<Figure size 1600x1200 with 1 Axes>,\n",
              " <Axes: title={'center': 'Spectrum comparison'}, xlabel='m/z', ylabel='Intensity'>)"
            ]
          },
          "execution_count": 11,
          "metadata": {},
          "output_type": "execute_result"
        },
        {
          "data": {
            "image/png": "[encoded data removed]",
            "text/plain": [
              "<Figure size 1600x1200 with 1 Axes>"
            ]
          },
          "metadata": {},
          "output_type": "display_data"
        }
      ],
      "source": [
        "print(mz_irt_df.iloc[14])\n",
        "print(mz_irt_df.iloc[31])\n",
        "spectra[14].plot_against(spectra[31])"
      ]
    }
  ],
  "metadata": {
    "colab": {
      "collapsed_sections": [
        "zLMDB14xO2ik",
        "r4K23vVAMe_G",
        "yhiwXbsWOdsE",
        "nVf97aTgLFJm",
        "IZULajcxL2mO"
      ],
      "provenance": []
    },
    "kernelspec": {
      "display_name": "Python 3",
      "name": "python3"
    },
    "language_info": {
      "codemirror_mode": {
        "name": "ipython",
        "version": 3
      },
      "file_extension": ".py",
      "mimetype": "text/x-python",
      "name": "python",
      "nbconvert_exporter": "python",
      "pygments_lexer": "ipython3",
      "version": "3.10.0"
    }
  },
  "nbformat": 4,
  "nbformat_minor": 0
}
